{
 "cells": [
  {
   "cell_type": "code",
   "execution_count": 1,
   "metadata": {},
   "outputs": [],
   "source": [
    "import pandas as pd"
   ]
  },
  {
   "cell_type": "code",
   "execution_count": 2,
   "metadata": {},
   "outputs": [],
   "source": [
    "import numpy as np"
   ]
  },
  {
   "cell_type": "code",
   "execution_count": 3,
   "metadata": {},
   "outputs": [],
   "source": [
    "import lofargeo"
   ]
  },
  {
   "cell_type": "code",
   "execution_count": 4,
   "metadata": {},
   "outputs": [],
   "source": [
    "import glob"
   ]
  },
  {
   "cell_type": "code",
   "execution_count": 5,
   "metadata": {},
   "outputs": [],
   "source": [
    "data = pd.DataFrame();\n",
    "for stationfile in glob.glob('/Users/dijkema/opt/lofar/src/MAC/Deployment/data/Coordinates/ETRF_FILES/*/*.csv'):\n",
    "    stationframe = pd.read_csv(stationfile)\n",
    "    stationframe[\"STATIONNAME\"] = stationfile.split(\"/\")[-2]\n",
    "    data = pd.concat([data, stationframe], ignore_index=True)"
   ]
  },
  {
   "cell_type": "code",
   "execution_count": 6,
   "metadata": {},
   "outputs": [],
   "source": [
    "data[\"NAME\"].str[0];"
   ]
  },
  {
   "cell_type": "code",
   "execution_count": 7,
   "metadata": {},
   "outputs": [],
   "source": [
    "def gettype(nameincsv):\n",
    "    if not nameincsv.strip()[1].isnumeric():\n",
    "        return nameincsv.strip()\n",
    "    else:\n",
    "        return nameincsv.strip()[0]+\"BA\""
   ]
  },
  {
   "cell_type": "code",
   "execution_count": 8,
   "metadata": {},
   "outputs": [],
   "source": [
    "def getnum(nameincsv):\n",
    "    if not nameincsv.strip()[1].isnumeric():\n",
    "        return -1\n",
    "    else:\n",
    "        return int(nameincsv.strip()[1:])"
   ]
  },
  {
   "cell_type": "code",
   "execution_count": 9,
   "metadata": {},
   "outputs": [],
   "source": [
    "data[\"TYPE\"] = data.apply(lambda row: gettype(row[\"NAME\"]), axis=1)"
   ]
  },
  {
   "cell_type": "code",
   "execution_count": 10,
   "metadata": {},
   "outputs": [],
   "source": [
    "data[\"NUMBER\"] = data.apply(lambda row: getnum(row[\"NAME\"]), axis=1)"
   ]
  },
  {
   "cell_type": "code",
   "execution_count": 11,
   "metadata": {},
   "outputs": [],
   "source": [
    "for coordpart in ['lon_rad', 'lat_rad', 'height_m']:\n",
    "    data[\"ETRS_\"+coordpart.upper().split(\"_\")[0]] = \\\n",
    "          data.apply(lambda row: \n",
    "                       np.rad2deg(\n",
    "                         lofargeo.geographic_from_xyz(\n",
    "                           (row['ETRS-X'],row['ETRS-Y'],row['ETRS-Z'])\n",
    "                         )[coordpart]\n",
    "                       ), axis=1)"
   ]
  },
  {
   "cell_type": "code",
   "execution_count": 12,
   "metadata": {},
   "outputs": [],
   "source": [
    "def getcoord(stationname, num):\n",
    "    \"\"\"\n",
    "    Get the lat-lon coordinates of an HBA-antenna\n",
    "    \"\"\"\n",
    "    queryres = data[(data[\"STATIONNAME\"]==stationname) & (data[\"NUMBER\"]==num) & (data[\"TYPE\"]==\"HBA\")]\n",
    "    if len(queryres) != 1:\n",
    "        raise Exception(\"Problem finding antenna \"+str(num)+\" for station\"+stationname+\": found \"+len(queryres))\n",
    "    return np.array([queryres[\"ETRS_LON\"].iloc[0], queryres[\"ETRS_LAT\"].iloc[0]])"
   ]
  },
  {
   "cell_type": "markdown",
   "metadata": {},
   "source": [
    "Get the x and y direction in a station"
   ]
  },
  {
   "cell_type": "code",
   "execution_count": 13,
   "metadata": {},
   "outputs": [],
   "source": [
    "def numbelowfirst(stationtype):\n",
    "    \"\"\" Get the antenna number for when the number in a line is below zero.\n",
    "    Stationtype must be CS, RS or other\"\"\"\n",
    "    if stationtype=='CSHBA0':\n",
    "        return 3\n",
    "    if stationtype=='CSHBA1':\n",
    "        return 27\n",
    "    if stationtype=='RS':\n",
    "        return 4\n",
    "    else:\n",
    "        return 6"
   ]
  },
  {
   "cell_type": "code",
   "execution_count": 14,
   "metadata": {},
   "outputs": [],
   "source": [
    "dirxs = {}\n",
    "dirys = {}\n",
    "for stationname in pd.unique(data[\"STATIONNAME\"]):\n",
    "    subtypes = [\"\"]\n",
    "    if stationname[0:2] == \"CS\":\n",
    "        subtypes = [\"HBA0\", \"HBA1\"]\n",
    "    for subtype in subtypes:\n",
    "        firstantenna = 0\n",
    "        if subtype == \"HBA1\":\n",
    "            firstantenna = 24;\n",
    "        ant0coord = getcoord(stationname, firstantenna)\n",
    "        dirxs[stationname+subtype] = getcoord(stationname, firstantenna+1) - ant0coord\n",
    "        highy = numbelowfirst(stationname[0:2]+subtype)\n",
    "        dirys[stationname+subtype] = getcoord(stationname, highy) - ant0coord"
   ]
  },
  {
   "cell_type": "code",
   "execution_count": 15,
   "metadata": {},
   "outputs": [],
   "source": [
    "data[\"ETRS_WKT\"] = \"\"\n",
    "for index, rec in data.iterrows():\n",
    "    if rec['TYPE']!='HBA':\n",
    "        continue\n",
    "        \n",
    "    xy=np.array([rec['ETRS_LON'],rec['ETRS_LAT']])\n",
    "    \n",
    "    # Find the offset vector between tiles\n",
    "    subtype = \"\"\n",
    "    if rec['STATIONNAME'][0:2] == \"CS\":\n",
    "        if rec['NUMBER'] >= 24:\n",
    "            subtype = \"HBA1\"\n",
    "        else:\n",
    "            subtype = \"HBA0\"\n",
    "            \n",
    "    dirx = dirxs[rec['STATIONNAME'] + subtype]\n",
    "    diry = dirys[rec['STATIONNAME'] + subtype]\n",
    "\n",
    "    ul = xy - 0.5*dirx + 0.5*diry\n",
    "    ur = xy + 0.5*dirx + 0.5*diry \n",
    "    lr = xy + 0.5*dirx - 0.5*diry \n",
    "    ll = xy - 0.5*dirx - 0.5*diry \n",
    "\n",
    "    wkt=('Polygon (('+str(ul[0])+' '+str(ul[1])+', '+ \n",
    "                      str(ur[0])+' '+str(ur[1])+', '+ \\\n",
    "                      str(lr[0])+' '+str(lr[1])+', '+ \\\n",
    "                      str(ll[0])+' '+str(ll[1])+', '+ \\\n",
    "                      str(ul[0])+' '+str(ul[1])+'))')\n",
    "    \n",
    "    data.set_value(index, \"ETRS_WKT\", wkt)"
   ]
  },
  {
   "cell_type": "code",
   "execution_count": 16,
   "metadata": {},
   "outputs": [],
   "source": [
    "a=data[data[\"ETRS_WKT\"]!=\"\"][\"ETRS_WKT\"].iloc[0]"
   ]
  },
  {
   "cell_type": "code",
   "execution_count": 17,
   "metadata": {},
   "outputs": [
    {
     "data": {
      "text/plain": [
       "['6.86861583228 52.9117170256',\n",
       " '6.86868577076 52.9116982185',\n",
       " '6.86871689402 52.9117404904',\n",
       " '6.86864695554 52.9117592976',\n",
       " '6.86861583228 52.9117170256))']"
      ]
     },
     "execution_count": 17,
     "metadata": {},
     "output_type": "execute_result"
    }
   ],
   "source": [
    "a[10:].split(', ')"
   ]
  },
  {
   "cell_type": "code",
   "execution_count": 20,
   "metadata": {},
   "outputs": [],
   "source": [
    "data.to_csv(\"allantennas.csv\")"
   ]
  },
  {
   "cell_type": "code",
   "execution_count": 22,
   "metadata": {},
   "outputs": [
    {
     "data": {
      "text/plain": [
       "NAME                    L0\n",
       "ETRS-X         3.82692e+06\n",
       "ETRS-Y              460915\n",
       "ETRS-Z         5.06464e+06\n",
       "STATION-P                0\n",
       "STATION-Q                0\n",
       "STATION-R                0\n",
       "RCU-X                    0\n",
       "RCU-Y                    1\n",
       "STATIONNAME          CS001\n",
       "TYPE                   LBA\n",
       "NUMBER                   0\n",
       "ETRS_LON           6.86763\n",
       "ETRS_LAT           52.9114\n",
       "ETRS_HEIGHT        2874.11\n",
       "ETRS_WKT                  \n",
       "Name: 0, dtype: object"
      ]
     },
     "execution_count": 22,
     "metadata": {},
     "output_type": "execute_result"
    }
   ],
   "source": [
    "data.iloc[0]"
   ]
  },
  {
   "cell_type": "code",
   "execution_count": null,
   "metadata": {},
   "outputs": [],
   "source": []
  }
 ],
 "metadata": {
  "kernelspec": {
   "display_name": "Python 3",
   "language": "python",
   "name": "python3"
  },
  "language_info": {
   "codemirror_mode": {
    "name": "ipython",
    "version": 3
   },
   "file_extension": ".py",
   "mimetype": "text/x-python",
   "name": "python",
   "nbconvert_exporter": "python",
   "pygments_lexer": "ipython3",
   "version": "3.6.1"
  }
 },
 "nbformat": 4,
 "nbformat_minor": 2
}
