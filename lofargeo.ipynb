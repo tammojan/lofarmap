{
 "cells": [
  {
   "cell_type": "code",
   "execution_count": 19,
   "metadata": {},
   "outputs": [],
   "source": [
    "import pandas as pd"
   ]
  },
  {
   "cell_type": "code",
   "execution_count": 20,
   "metadata": {},
   "outputs": [],
   "source": [
    "import numpy as np"
   ]
  },
  {
   "cell_type": "code",
   "execution_count": 21,
   "metadata": {},
   "outputs": [],
   "source": [
    "import lofargeo"
   ]
  },
  {
   "cell_type": "code",
   "execution_count": 67,
   "metadata": {},
   "outputs": [],
   "source": [
    "import glob"
   ]
  },
  {
   "cell_type": "markdown",
   "metadata": {},
   "source": [
    "## Read in antenna data from LOFAR svn"
   ]
  },
  {
   "cell_type": "code",
   "execution_count": 240,
   "metadata": {},
   "outputs": [],
   "source": [
    "data = pd.DataFrame();\n",
    "for stationfile in glob.glob('/Users/dijkema/opt/lofar/src/MAC/Deployment/data/Coordinates/ETRF_FILES/*/*.csv'):\n",
    "    stationframe = pd.read_csv(stationfile)\n",
    "    stationframe[\"STATIONNAME\"] = stationfile.split(\"/\")[-2]\n",
    "    data = pd.concat([data, stationframe], ignore_index=True)"
   ]
  },
  {
   "cell_type": "markdown",
   "metadata": {},
   "source": [
    "Separate the 'NAME' column into a type and a number:"
   ]
  },
  {
   "cell_type": "markdown",
   "metadata": {},
   "source": [
    "Add a column `TYPE` with `LBA` and `HBA`:"
   ]
  },
  {
   "cell_type": "code",
   "execution_count": 179,
   "metadata": {},
   "outputs": [],
   "source": [
    "data[\"TYPE\"] = data[\"NAME\"].str[0]+\"BA\""
   ]
  },
  {
   "cell_type": "markdown",
   "metadata": {},
   "source": [
    "For the centers (`CLBA`, `CHBA`, `CHBA0`, `CHBA1`), type is the same as the name:"
   ]
  },
  {
   "cell_type": "code",
   "execution_count": 180,
   "metadata": {},
   "outputs": [],
   "source": [
    "data.loc[data[\"NAME\"].str[0]==\"C\", \"TYPE\"] = data.loc[data[\"NAME\"].str[0]==\"C\", \"NAME\"]"
   ]
  },
  {
   "cell_type": "code",
   "execution_count": 186,
   "metadata": {},
   "outputs": [
    {
     "data": {
      "text/plain": [
       "CLBA     51\n",
       "CHBA     45\n",
       "CHBA0    24\n",
       "CHBA1    24\n",
       "CHBA      6\n",
       "Name: TYPE, dtype: int64"
      ]
     },
     "execution_count": 186,
     "metadata": {},
     "output_type": "execute_result"
    }
   ],
   "source": [
    "pd.value_counts(data[data[\"TYPE\"].str[0]==\"C\"][\"TYPE\"])"
   ]
  },
  {
   "cell_type": "markdown",
   "metadata": {},
   "source": [
    "Add a column `ANTENNANUMBER` with the numeric part of `NAME`:"
   ]
  },
  {
   "cell_type": "code",
   "execution_count": 182,
   "metadata": {},
   "outputs": [],
   "source": [
    "data[\"ANTENNANUMBER\"] = 0"
   ]
  },
  {
   "cell_type": "code",
   "execution_count": 188,
   "metadata": {},
   "outputs": [],
   "source": [
    "data.loc[data[\"NAME\"].str[0]!=\"C\", \"TYPE\"] = data.loc[data[\"NAME\"].str[0]!=\"C\", \"NAME\"].str[1:]"
   ]
  },
  {
   "cell_type": "markdown",
   "metadata": {},
   "source": [
    "Use the `lofargeo` package from Michiel Brentjens to convert from ETRS x, y, z to ETRS lat, lon, height:"
   ]
  },
  {
   "cell_type": "code",
   "execution_count": 301,
   "metadata": {},
   "outputs": [],
   "source": [
    "def geographic_from_xyz(x_m, y_m, z_m, toDegrees=True):\n",
    "    '''\n",
    "    Compute lon, lat, and height. Based on code in lofargeo from Michiel Brentjens\n",
    "    '''\n",
    "    from numpy import arctan2, sqrt, cos, sin, rad2deg\n",
    "    \n",
    "    wgs84_f = 1./298.257223563\n",
    "    \n",
    "    def normalized_earth_radius(latitude_rad):\n",
    "        return 1.0/sqrt(cos(latitude_rad)**2 + ((1.0 - wgs84_f)**2)*(sin(latitude_rad)**2))\n",
    "        \n",
    "    wgs84_a = 6378137.0\n",
    "\n",
    "    wgs84_e2 = wgs84_f*(2.0 - wgs84_f)\n",
    "    \n",
    "    lon_rad = arctan2(y_m, x_m)\n",
    "    r_m = sqrt(x_m**2 + y_m**2)\n",
    "    # Iterate to latitude solution\n",
    "    phi_previous = 1e4\n",
    "    phi = arctan2(z_m, r_m)\n",
    "    while np.any(abs(phi-phi_previous) > 1.6e-12):\n",
    "        phi_previous = phi\n",
    "        phi = arctan2(z_m + wgs84_e2*wgs84_a*normalized_earth_radius(phi)*sin(phi), r_m)\n",
    "    lat_rad = phi\n",
    "    height_m = r_m*cos(lat_rad) + z_m*sin(lat_rad) - wgs84_a*sqrt(1.0 - wgs84_e2*sin(lat_rad)**2)\n",
    "    if toDegrees:\n",
    "        return [rad2deg(lon_rad), rad2deg(lat_rad), height_m]\n",
    "    else:\n",
    "        return [lon_rad, lat_rad, height_m]"
   ]
  },
  {
   "cell_type": "code",
   "execution_count": 302,
   "metadata": {},
   "outputs": [
    {
     "data": {
      "text/plain": [
       "[63.43494882292201, 89.997009702026972, -6356749.3141868291]"
      ]
     },
     "execution_count": 302,
     "metadata": {},
     "output_type": "execute_result"
    }
   ],
   "source": [
    "geographic_from_xyz(1,2,3)"
   ]
  },
  {
   "cell_type": "code",
   "execution_count": 306,
   "metadata": {},
   "outputs": [
    {
     "data": {
      "text/html": [
       "<div>\n",
       "<style>\n",
       "    .dataframe thead tr:only-child th {\n",
       "        text-align: right;\n",
       "    }\n",
       "\n",
       "    .dataframe thead th {\n",
       "        text-align: left;\n",
       "    }\n",
       "\n",
       "    .dataframe tbody tr th {\n",
       "        vertical-align: top;\n",
       "    }\n",
       "</style>\n",
       "<table border=\"1\" class=\"dataframe\">\n",
       "  <thead>\n",
       "    <tr style=\"text-align: right;\">\n",
       "      <th></th>\n",
       "      <th>NAME</th>\n",
       "      <th>ETRS-X</th>\n",
       "      <th>ETRS-Y</th>\n",
       "      <th>ETRS-Z</th>\n",
       "      <th>STATION-P</th>\n",
       "      <th>STATION-Q</th>\n",
       "      <th>STATION-R</th>\n",
       "      <th>RCU-X</th>\n",
       "      <th>RCU-Y</th>\n",
       "      <th>STATIONNAME</th>\n",
       "    </tr>\n",
       "  </thead>\n",
       "  <tbody>\n",
       "    <tr>\n",
       "      <th>4138</th>\n",
       "      <td>L4</td>\n",
       "      <td>3796315.727</td>\n",
       "      <td>877606.926</td>\n",
       "      <td>5032763.297</td>\n",
       "      <td>17.230</td>\n",
       "      <td>11.890</td>\n",
       "      <td>0.0</td>\n",
       "      <td>8</td>\n",
       "      <td>9</td>\n",
       "      <td>DE604</td>\n",
       "    </tr>\n",
       "    <tr>\n",
       "      <th>4139</th>\n",
       "      <td>L5</td>\n",
       "      <td>3796310.908</td>\n",
       "      <td>877605.628</td>\n",
       "      <td>5032767.246</td>\n",
       "      <td>16.515</td>\n",
       "      <td>18.214</td>\n",
       "      <td>0.0</td>\n",
       "      <td>10</td>\n",
       "      <td>11</td>\n",
       "      <td>DE604</td>\n",
       "    </tr>\n",
       "    <tr>\n",
       "      <th>4140</th>\n",
       "      <td>L6</td>\n",
       "      <td>3796316.577</td>\n",
       "      <td>877614.898</td>\n",
       "      <td>5032761.081</td>\n",
       "      <td>25.069</td>\n",
       "      <td>9.109</td>\n",
       "      <td>0.0</td>\n",
       "      <td>12</td>\n",
       "      <td>13</td>\n",
       "      <td>DE604</td>\n",
       "    </tr>\n",
       "    <tr>\n",
       "      <th>4141</th>\n",
       "      <td>L7</td>\n",
       "      <td>3796312.631</td>\n",
       "      <td>877614.984</td>\n",
       "      <td>5032764.090</td>\n",
       "      <td>25.628</td>\n",
       "      <td>14.040</td>\n",
       "      <td>0.0</td>\n",
       "      <td>14</td>\n",
       "      <td>15</td>\n",
       "      <td>DE604</td>\n",
       "    </tr>\n",
       "    <tr>\n",
       "      <th>4142</th>\n",
       "      <td>L8</td>\n",
       "      <td>3796336.904</td>\n",
       "      <td>877573.198</td>\n",
       "      <td>5032753.682</td>\n",
       "      <td>-18.907</td>\n",
       "      <td>-7.412</td>\n",
       "      <td>0.0</td>\n",
       "      <td>16</td>\n",
       "      <td>17</td>\n",
       "      <td>DE604</td>\n",
       "    </tr>\n",
       "    <tr>\n",
       "      <th>4143</th>\n",
       "      <td>L9</td>\n",
       "      <td>3796342.493</td>\n",
       "      <td>877571.969</td>\n",
       "      <td>5032749.638</td>\n",
       "      <td>-20.802</td>\n",
       "      <td>-14.158</td>\n",
       "      <td>0.0</td>\n",
       "      <td>18</td>\n",
       "      <td>19</td>\n",
       "      <td>DE604</td>\n",
       "    </tr>\n",
       "    <tr>\n",
       "      <th>4144</th>\n",
       "      <td>L10</td>\n",
       "      <td>3796343.107</td>\n",
       "      <td>877568.001</td>\n",
       "      <td>5032749.946</td>\n",
       "      <td>-24.829</td>\n",
       "      <td>-14.074</td>\n",
       "      <td>0.0</td>\n",
       "      <td>20</td>\n",
       "      <td>21</td>\n",
       "      <td>DE604</td>\n",
       "    </tr>\n",
       "  </tbody>\n",
       "</table>\n",
       "</div>"
      ],
      "text/plain": [
       "     NAME       ETRS-X      ETRS-Y       ETRS-Z  STATION-P  STATION-Q  \\\n",
       "4138   L4  3796315.727  877606.926  5032763.297     17.230     11.890   \n",
       "4139   L5  3796310.908  877605.628  5032767.246     16.515     18.214   \n",
       "4140   L6  3796316.577  877614.898  5032761.081     25.069      9.109   \n",
       "4141   L7  3796312.631  877614.984  5032764.090     25.628     14.040   \n",
       "4142   L8  3796336.904  877573.198  5032753.682    -18.907     -7.412   \n",
       "4143   L9  3796342.493  877571.969  5032749.638    -20.802    -14.158   \n",
       "4144  L10  3796343.107  877568.001  5032749.946    -24.829    -14.074   \n",
       "\n",
       "      STATION-R  RCU-X  RCU-Y STATIONNAME  \n",
       "4138        0.0      8      9       DE604  \n",
       "4139        0.0     10     11       DE604  \n",
       "4140        0.0     12     13       DE604  \n",
       "4141        0.0     14     15       DE604  \n",
       "4142        0.0     16     17       DE604  \n",
       "4143        0.0     18     19       DE604  \n",
       "4144        0.0     20     21       DE604  "
      ]
     },
     "execution_count": 306,
     "metadata": {},
     "output_type": "execute_result"
    }
   ],
   "source": [
    "data.iloc[4138:4145]"
   ]
  },
  {
   "cell_type": "code",
   "execution_count": 316,
   "metadata": {},
   "outputs": [],
   "source": [
    "[data[\"ETRS-LON\"], data[\"ETRS-LAT\"], data[\"ETRS-HEIGHT\"]] = geographic_from_xyz(data[\"ETRS-X\"], data[\"ETRS-Y\"], data[\"ETRS-Z\"], toDegrees=True)"
   ]
  },
  {
   "cell_type": "code",
   "execution_count": 76,
   "metadata": {},
   "outputs": [],
   "source": [
    "for coordpart in ['lon_rad', 'lat_rad', 'height_m']:\n",
    "    data[\"ETRS_\"+coordpart.upper().split(\"_\")[0]] = \\\n",
    "          data.apply(lambda row: \n",
    "                       np.rad2deg(\n",
    "                         lofargeo.geographic_from_xyz(\n",
    "                           (row['ETRS-X'],row['ETRS-Y'],row['ETRS-Z'])\n",
    "                         )[coordpart]\n",
    "                       ), axis=1)"
   ]
  },
  {
   "cell_type": "code",
   "execution_count": 30,
   "metadata": {},
   "outputs": [],
   "source": [
    "def getcoord(stationname, num):\n",
    "    \"\"\"\n",
    "    Get the lat-lon coordinates of an HBA-antenna\n",
    "    \"\"\"\n",
    "    queryres = data[(data[\"STATIONNAME\"]==stationname) & (data[\"NUMBER\"]==num) & (data[\"TYPE\"]==\"HBA\")]\n",
    "    if len(queryres) != 1:\n",
    "        raise Exception(\"Problem finding antenna \"+str(num)+\" for station\"+stationname+\": found \"+len(queryres))\n",
    "    return np.array([queryres[\"ETRS_LON\"].iloc[0], queryres[\"ETRS_LAT\"].iloc[0]])"
   ]
  },
  {
   "cell_type": "markdown",
   "metadata": {},
   "source": [
    "Get the x and y direction in a station"
   ]
  },
  {
   "cell_type": "code",
   "execution_count": 31,
   "metadata": {},
   "outputs": [],
   "source": [
    "def numbelowfirst(stationtype):\n",
    "    \"\"\" Get the antenna number for when the number in a line is below zero.\n",
    "    Stationtype must be CS, RS or other\"\"\"\n",
    "    if stationtype=='CSHBA0':\n",
    "        return 3\n",
    "    if stationtype=='CSHBA1':\n",
    "        return 27\n",
    "    if stationtype=='RS':\n",
    "        return 4\n",
    "    else:\n",
    "        return 6"
   ]
  },
  {
   "cell_type": "code",
   "execution_count": 32,
   "metadata": {},
   "outputs": [],
   "source": [
    "dirxs = {}\n",
    "dirys = {}\n",
    "for stationname in pd.unique(data[\"STATIONNAME\"]):\n",
    "    subtypes = [\"\"]\n",
    "    if stationname[0:2] == \"CS\":\n",
    "        subtypes = [\"HBA0\", \"HBA1\"]\n",
    "    for subtype in subtypes:\n",
    "        firstantenna = 0\n",
    "        if subtype == \"HBA1\":\n",
    "            firstantenna = 24;\n",
    "        ant0coord = getcoord(stationname, firstantenna)\n",
    "        dirxs[stationname+subtype] = getcoord(stationname, firstantenna+1) - ant0coord\n",
    "        highy = numbelowfirst(stationname[0:2]+subtype)\n",
    "        dirys[stationname+subtype] = getcoord(stationname, highy) - ant0coord"
   ]
  },
  {
   "cell_type": "code",
   "execution_count": 33,
   "metadata": {},
   "outputs": [],
   "source": [
    "data[\"ETRS_WKT\"] = \"\"\n",
    "for index, rec in data.iterrows():\n",
    "    if rec['TYPE']!='HBA':\n",
    "        continue\n",
    "        \n",
    "    xy=np.array([rec['ETRS_LON'],rec['ETRS_LAT']])\n",
    "    \n",
    "    # Find the offset vector between tiles\n",
    "    subtype = \"\"\n",
    "    if rec['STATIONNAME'][0:2] == \"CS\":\n",
    "        if rec['NUMBER'] >= 24:\n",
    "            subtype = \"HBA1\"\n",
    "        else:\n",
    "            subtype = \"HBA0\"\n",
    "            \n",
    "    dirx = dirxs[rec['STATIONNAME'] + subtype]\n",
    "    diry = dirys[rec['STATIONNAME'] + subtype]\n",
    "\n",
    "    ul = xy - 0.5*dirx + 0.5*diry\n",
    "    ur = xy + 0.5*dirx + 0.5*diry \n",
    "    lr = xy + 0.5*dirx - 0.5*diry \n",
    "    ll = xy - 0.5*dirx - 0.5*diry \n",
    "\n",
    "    wkt=('Polygon (('+str(ul[0])+' '+str(ul[1])+', '+ \n",
    "                      str(ur[0])+' '+str(ur[1])+', '+ \\\n",
    "                      str(lr[0])+' '+str(lr[1])+', '+ \\\n",
    "                      str(ll[0])+' '+str(ll[1])+', '+ \\\n",
    "                      str(ul[0])+' '+str(ul[1])+'))')\n",
    "    \n",
    "    data.set_value(index, \"ETRS_WKT\", wkt)"
   ]
  },
  {
   "cell_type": "code",
   "execution_count": 34,
   "metadata": {},
   "outputs": [],
   "source": [
    "a=data[data[\"ETRS_WKT\"]!=\"\"][\"ETRS_WKT\"].iloc[0]"
   ]
  },
  {
   "cell_type": "code",
   "execution_count": 36,
   "metadata": {},
   "outputs": [
    {
     "data": {
      "text/plain": [
       "['6.86861583228 52.9117170256',\n",
       " '6.86868577076 52.9116982185',\n",
       " '6.86871689402 52.9117404904',\n",
       " '6.86864695554 52.9117592976',\n",
       " '6.86861583228 52.9117170256))']"
      ]
     },
     "execution_count": 36,
     "metadata": {},
     "output_type": "execute_result"
    }
   ],
   "source": [
    "a[10:].split(', ')"
   ]
  },
  {
   "cell_type": "code",
   "execution_count": 48,
   "metadata": {},
   "outputs": [],
   "source": [
    "from sqlalchemy import create_engine\n",
    "import sqlalchemy"
   ]
  },
  {
   "cell_type": "code",
   "execution_count": 43,
   "metadata": {},
   "outputs": [],
   "source": [
    "engine = create_engine('postgresql://dijkema@localhost:5432/lofargeo')"
   ]
  },
  {
   "cell_type": "code",
   "execution_count": 44,
   "metadata": {},
   "outputs": [],
   "source": [
    "from geoalchemy2 import Geometry"
   ]
  },
  {
   "cell_type": "code",
   "execution_count": 49,
   "metadata": {},
   "outputs": [],
   "source": [
    "meta = sqlalchemy.MetaData(engine)\n",
    "my_table = sqlalchemy.Table('my_table', meta,\n",
    "    sqlalchemy.Column('id', sqlalchemy.Integer, primary_key=True),\n",
    "    sqlalchemy.Column('point', Geometry('Point', srid=4326)),\n",
    "    sqlalchemy.Column('datetime', sqlalchemy.DateTime),\n",
    "    sqlalchemy.Column('value', sqlalchemy.Float)\n",
    ")\n",
    "my_table.create(engine)"
   ]
  },
  {
   "cell_type": "code",
   "execution_count": 62,
   "metadata": {},
   "outputs": [],
   "source": [
    "data.to_csv(\"allantennas.csv\")"
   ]
  },
  {
   "cell_type": "code",
   "execution_count": 66,
   "metadata": {},
   "outputs": [
    {
     "data": {
      "text/plain": [
       "<sqlalchemy.engine.result.ResultProxy at 0x10db714e0>"
      ]
     },
     "execution_count": 66,
     "metadata": {},
     "output_type": "execute_result"
    }
   ],
   "source": [
    "engine.execute(\"delete from stations;\")"
   ]
  },
  {
   "cell_type": "code",
   "execution_count": 60,
   "metadata": {},
   "outputs": [],
   "source": [
    "stations = pd.read_excel(\"/Users/dijkema/Desktop/lofargeo/stationsnamen.xlsx\")"
   ]
  },
  {
   "cell_type": "code",
   "execution_count": 61,
   "metadata": {},
   "outputs": [],
   "source": [
    "stations.to_sql('stations', engine, index=False, if_exists='append')"
   ]
  },
  {
   "cell_type": "code",
   "execution_count": null,
   "metadata": {},
   "outputs": [],
   "source": []
  }
 ],
 "metadata": {
  "kernelspec": {
   "display_name": "Python 3",
   "language": "python",
   "name": "python3"
  },
  "language_info": {
   "codemirror_mode": {
    "name": "ipython",
    "version": 3
   },
   "file_extension": ".py",
   "mimetype": "text/x-python",
   "name": "python",
   "nbconvert_exporter": "python",
   "pygments_lexer": "ipython3",
   "version": "3.6.1"
  }
 },
 "nbformat": 4,
 "nbformat_minor": 2
}
