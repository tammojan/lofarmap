{
 "cells": [
  {
   "cell_type": "code",
   "execution_count": 1,
   "metadata": {},
   "outputs": [],
   "source": [
    "import pandas as pd"
   ]
  },
  {
   "cell_type": "code",
   "execution_count": 2,
   "metadata": {},
   "outputs": [],
   "source": [
    "import numpy as np"
   ]
  },
  {
   "cell_type": "code",
   "execution_count": 3,
   "metadata": {},
   "outputs": [],
   "source": [
    "import glob"
   ]
  },
  {
   "cell_type": "markdown",
   "metadata": {},
   "source": [
    "## Read in antenna data from LOFAR svn"
   ]
  },
  {
   "cell_type": "code",
   "execution_count": 4,
   "metadata": {},
   "outputs": [],
   "source": [
    "data = pd.DataFrame();\n",
    "for stationfile in glob.glob('/Users/dijkema/opt/lofar/src/MAC/Deployment/data/Coordinates/ETRF_FILES/*/*.csv'):\n",
    "    stationframe = pd.read_csv(stationfile, skip_blank_lines=True)\n",
    "    stationframe[\"STATIONNAME\"] = stationfile.split(\"/\")[-2]\n",
    "    # RS106 has rubbish lines with all zeros\n",
    "    stationframe = stationframe[stationframe[\"NAME\"].str[0]!=\"0\"]\n",
    "    data = pd.concat([data, stationframe], ignore_index=True)\n",
    "    if (stationframe[\"NAME\"].str[1]==\".\").any():\n",
    "        print(stationfile)\n",
    "        break"
   ]
  },
  {
   "cell_type": "markdown",
   "metadata": {},
   "source": [
    "Separate the 'NAME' column into a type and a number:"
   ]
  },
  {
   "cell_type": "markdown",
   "metadata": {},
   "source": [
    "Add a column `TYPE` with `LBA` and `HBA`:"
   ]
  },
  {
   "cell_type": "code",
   "execution_count": 5,
   "metadata": {},
   "outputs": [],
   "source": [
    "data[\"TYPE\"] = data[\"NAME\"].str[0]+\"BA\""
   ]
  },
  {
   "cell_type": "markdown",
   "metadata": {},
   "source": [
    "For the centers (`CLBA`, `CHBA`, `CHBA0`, `CHBA1`), `TYPE` is the same as the name:"
   ]
  },
  {
   "cell_type": "code",
   "execution_count": 6,
   "metadata": {},
   "outputs": [],
   "source": [
    "data.loc[data[\"NAME\"].str[0]==\"C\", \"TYPE\"] = data.loc[data[\"NAME\"].str[0]==\"C\", \"NAME\"].str.strip()"
   ]
  },
  {
   "cell_type": "code",
   "execution_count": 7,
   "metadata": {},
   "outputs": [
    {
     "data": {
      "text/plain": [
       "CHBA     51\n",
       "CLBA     51\n",
       "CHBA1    24\n",
       "CHBA0    24\n",
       "Name: TYPE, dtype: int64"
      ]
     },
     "execution_count": 7,
     "metadata": {},
     "output_type": "execute_result"
    }
   ],
   "source": [
    "pd.value_counts(data[data[\"TYPE\"].str[0]==\"C\"][\"TYPE\"])"
   ]
  },
  {
   "cell_type": "markdown",
   "metadata": {},
   "source": [
    "Add a column `ANTENNANUMBER` with the numeric part of `NAME`:"
   ]
  },
  {
   "cell_type": "code",
   "execution_count": 8,
   "metadata": {},
   "outputs": [],
   "source": [
    "data[\"ANTENNANUMBER\"] = 0"
   ]
  },
  {
   "cell_type": "code",
   "execution_count": 9,
   "metadata": {},
   "outputs": [],
   "source": [
    "data.loc[data[\"NAME\"].str[0]!=\"C\", \"ANTENNANUMBER\"] = pd.to_numeric(data.loc[data[\"NAME\"].str[0]!=\"C\", \"NAME\"].str[1:])"
   ]
  },
  {
   "cell_type": "markdown",
   "metadata": {},
   "source": [
    "Use `pyproj` to convert from ETRS x, y, z to ETRS lat, lon, height:"
   ]
  },
  {
   "cell_type": "code",
   "execution_count": 10,
   "metadata": {},
   "outputs": [],
   "source": [
    "import pyproj"
   ]
  },
  {
   "cell_type": "code",
   "execution_count": 11,
   "metadata": {},
   "outputs": [],
   "source": [
    "ecef = pyproj.Proj(proj='geocent', ellps='WGS84', datum='WGS84')\n",
    "lla = pyproj.Proj(proj='latlong', ellps='WGS84', datum='WGS84')"
   ]
  },
  {
   "cell_type": "code",
   "execution_count": 12,
   "metadata": {},
   "outputs": [],
   "source": [
    "(data[\"ETRS-LON\"], \n",
    " data[\"ETRS-LAT\"], \n",
    " data[\"ETRS-HEIGHT\"]) = pyproj.transform(ecef, lla,\n",
    "                                         data[\"ETRS-X\"].values,\n",
    "                                         data[\"ETRS-Y\"].values,\n",
    "                                         data[\"ETRS-Z\"].values)"
   ]
  },
  {
   "cell_type": "markdown",
   "metadata": {},
   "source": [
    "## Make tiles"
   ]
  },
  {
   "cell_type": "code",
   "execution_count": 13,
   "metadata": {},
   "outputs": [],
   "source": [
    "def getcoord(stationname, num):\n",
    "    \"\"\"\n",
    "    Get the LON and LAT coordinates of an HBA-antenna\n",
    "    \"\"\"\n",
    "    queryres = data[(data[\"STATIONNAME\"]==stationname) & (data[\"ANTENNANUMBER\"]==num) & (data[\"TYPE\"]==\"HBA\")]\n",
    "    if len(queryres) != 1:\n",
    "        raise Exception(\"Problem finding antenna \"+str(num)+\" for station\"+stationname+\": found \"+len(queryres))\n",
    "    return np.array([queryres[\"ETRS-LON\"].iloc[0], queryres[\"ETRS-LAT\"].iloc[0]])"
   ]
  },
  {
   "cell_type": "markdown",
   "metadata": {},
   "source": [
    "Get the offset between the tiles in a station (by comparing the position of tile 0 with that next to and below it)."
   ]
  },
  {
   "cell_type": "code",
   "execution_count": 14,
   "metadata": {},
   "outputs": [],
   "source": [
    "def numbelowfirst(stationtype):\n",
    "    \"\"\" Get the antenna number for when the number in a line is below zero.\n",
    "    Stationtype must be CS, RS or other\"\"\"\n",
    "    if stationtype=='CSHBA0':\n",
    "        return 3\n",
    "    if stationtype=='CSHBA1':\n",
    "        return 27\n",
    "    if stationtype=='RS':\n",
    "        return 4\n",
    "    else:\n",
    "        return 6"
   ]
  },
  {
   "cell_type": "code",
   "execution_count": 15,
   "metadata": {},
   "outputs": [],
   "source": [
    "dirxs = {}\n",
    "dirys = {}\n",
    "for stationname in pd.unique(data[\"STATIONNAME\"]):\n",
    "    subtypes = [\"\"]\n",
    "    if stationname[0:2] == \"CS\":\n",
    "        subtypes = [\"HBA0\", \"HBA1\"]\n",
    "    for subtype in subtypes:\n",
    "        firstantenna = 0\n",
    "        if subtype == \"HBA1\":\n",
    "            firstantenna = 24;\n",
    "        ant0coord = getcoord(stationname, firstantenna)\n",
    "        dirxs[stationname+subtype] = getcoord(stationname, firstantenna+1) - ant0coord\n",
    "        highy = numbelowfirst(stationname[0:2]+subtype)\n",
    "        dirys[stationname+subtype] = getcoord(stationname, highy) - ant0coord"
   ]
  },
  {
   "cell_type": "code",
   "execution_count": 16,
   "metadata": {},
   "outputs": [],
   "source": [
    "data[\"ETRS-WKT\"] = \"\"\n",
    "for index, rec in data.iterrows():\n",
    "    if rec['TYPE'] != 'HBA':\n",
    "        wkt = 'Point('+str(rec['ETRS-LON']) +' '+str(rec['ETRS-LAT'])+')';\n",
    "    else:    \n",
    "        xy=np.array([rec['ETRS-LON'],rec['ETRS-LAT']])\n",
    "\n",
    "        # Find the offset vector between tiles\n",
    "        subtype = \"\"\n",
    "        if rec['STATIONNAME'][0:2] == \"CS\":\n",
    "            if rec['ANTENNANUMBER'] >= 24:\n",
    "                subtype = \"HBA1\"\n",
    "            else:\n",
    "                subtype = \"HBA0\"\n",
    "\n",
    "        dirx = dirxs[rec['STATIONNAME'] + subtype]\n",
    "        diry = dirys[rec['STATIONNAME'] + subtype]\n",
    "\n",
    "        ul = xy - 0.5*dirx + 0.5*diry\n",
    "        ur = xy + 0.5*dirx + 0.5*diry \n",
    "        lr = xy + 0.5*dirx - 0.5*diry \n",
    "        ll = xy - 0.5*dirx - 0.5*diry \n",
    "\n",
    "        wkt=('Polygon (('+str(ul[0])+' '+str(ul[1])+', '+ \n",
    "                          str(ur[0])+' '+str(ur[1])+', '+ \\\n",
    "                          str(lr[0])+' '+str(lr[1])+', '+ \\\n",
    "                          str(ll[0])+' '+str(ll[1])+', '+ \\\n",
    "                          str(ul[0])+' '+str(ul[1])+'))')\n",
    "\n",
    "    data.set_value(index, \"ETRS-WKT\", wkt)"
   ]
  },
  {
   "cell_type": "markdown",
   "metadata": {},
   "source": [
    "## Export to PostgreSQL"
   ]
  },
  {
   "cell_type": "markdown",
   "metadata": {},
   "source": [
    "PostgreSQL wants column names to be lowercase, so make them lowercase:"
   ]
  },
  {
   "cell_type": "code",
   "execution_count": 17,
   "metadata": {},
   "outputs": [],
   "source": [
    "data.columns = map(str.lower, data.columns)"
   ]
  },
  {
   "cell_type": "code",
   "execution_count": 18,
   "metadata": {},
   "outputs": [],
   "source": [
    "from sqlalchemy import create_engine"
   ]
  },
  {
   "cell_type": "code",
   "execution_count": 19,
   "metadata": {},
   "outputs": [],
   "source": [
    "engine = create_engine('postgresql://dijkema@localhost:5432/lofargeo')"
   ]
  },
  {
   "cell_type": "code",
   "execution_count": 20,
   "metadata": {},
   "outputs": [],
   "source": [
    "engine.execute(\"delete from antennas;\")\n",
    "data.to_sql('antennas', engine, index=False, if_exists=\"append\")"
   ]
  },
  {
   "cell_type": "markdown",
   "metadata": {},
   "source": [
    "Add geometry"
   ]
  },
  {
   "cell_type": "code",
   "execution_count": 21,
   "metadata": {},
   "outputs": [],
   "source": [
    "engine.execute('update antennas set geom = ST_SetSRID(ST_MakePoint(\"etrs-lon\", \"etrs-lat\"), 4258)');"
   ]
  },
  {
   "cell_type": "markdown",
   "metadata": {},
   "source": [
    "## Export to CSV"
   ]
  },
  {
   "cell_type": "code",
   "execution_count": 52,
   "metadata": {},
   "outputs": [],
   "source": [
    "data.to_csv(\"allantennas.csv\")"
   ]
  },
  {
   "cell_type": "markdown",
   "metadata": {},
   "source": [
    "## Pretty station names"
   ]
  },
  {
   "cell_type": "code",
   "execution_count": 22,
   "metadata": {},
   "outputs": [],
   "source": [
    "stations = pd.read_excel(\"/Users/dijkema/opt/lofarmap/stationsnamen.xlsx\")"
   ]
  },
  {
   "cell_type": "code",
   "execution_count": 24,
   "metadata": {},
   "outputs": [],
   "source": [
    "engine.execute(\"delete from stationnames\");\n",
    "stations.to_sql('stationnames', engine, index=False, if_exists='append')"
   ]
  },
  {
   "cell_type": "code",
   "execution_count": null,
   "metadata": {},
   "outputs": [],
   "source": []
  }
 ],
 "metadata": {
  "kernelspec": {
   "display_name": "Python 3",
   "language": "python",
   "name": "python3"
  },
  "language_info": {
   "codemirror_mode": {
    "name": "ipython",
    "version": 3
   },
   "file_extension": ".py",
   "mimetype": "text/x-python",
   "name": "python",
   "nbconvert_exporter": "python",
   "pygments_lexer": "ipython3",
   "version": "3.6.1"
  }
 },
 "nbformat": 4,
 "nbformat_minor": 2
}
